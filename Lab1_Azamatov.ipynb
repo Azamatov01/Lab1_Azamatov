{
 "cells": [
  {
   "cell_type": "code",
   "execution_count": 1,
   "id": "4188b11e-c8cf-43ab-9cc6-1eeb26a6b32e",
   "metadata": {},
   "outputs": [
    {
     "name": "stdout",
     "output_type": "stream",
     "text": [
      "15\n"
     ]
    }
   ],
   "source": [
    "q = 15\n",
    "print(q)"
   ]
  },
  {
   "cell_type": "code",
   "execution_count": 3,
   "id": "ecf2e4c8-bd93-48ef-b8bc-f06e5ca9a2e4",
   "metadata": {},
   "outputs": [
    {
     "name": "stdout",
     "output_type": "stream",
     "text": [
      "<class 'int'>\n"
     ]
    }
   ],
   "source": [
    "q = 15\n",
    "t = type(q)\n",
    "print(t)"
   ]
  },
  {
   "cell_type": "code",
   "execution_count": 2,
   "id": "ec5bdd0f-6d54-4747-9e72-a4b0f78836c9",
   "metadata": {},
   "outputs": [
    {
     "name": "stdout",
     "output_type": "stream",
     "text": [
      "<class 'float'>\n"
     ]
    }
   ],
   "source": [
    "q = 4.13\n",
    "t = type(q)\n",
    "print(t)"
   ]
  },
  {
   "cell_type": "code",
   "execution_count": 4,
   "id": "32b5fb1b-ab73-4a0a-a259-5804fe76fda7",
   "metadata": {},
   "outputs": [
    {
     "name": "stdout",
     "output_type": "stream",
     "text": [
      "<class 'int'>\n",
      "<class 'float'>\n",
      "<class 'bool'>\n",
      "<class 'str'>\n",
      "[10, 20, 30]\n",
      "{'go': 3, 'so': 7, 'ok': 'yes'}\n",
      "3\n",
      "<class 'NoneType'>\n"
     ]
    }
   ],
   "source": [
    "# Присваиваем новое значение переменной и проверяем ее тип\n",
    "z = 7\n",
    "print(type(z))  # int\n",
    "\n",
    "# Присваиваем новое дробное число и проверяем тип\n",
    "x = 5.8\n",
    "print(type(x))  # float\n",
    "\n",
    "# Присваиваем логическое значение и проверяем тип\n",
    "y = False\n",
    "print(type(y))  # bool\n",
    "\n",
    "# Присваиваем новую строку и проверяем тип\n",
    "q = \"Python is fun!\"\n",
    "print(type(q))  # str\n",
    "\n",
    "# Создаем новый список и выводим его на экран\n",
    "r = [10, 20, 30]\n",
    "print(r)\n",
    "\n",
    "# Создаем новый словарь и выводим его, затем значение по ключу 'go'\n",
    "w = {'go': 3, 'so': 7, 'ok': 'yes'}\n",
    "print(w)\n",
    "print(w['go'])  # выводим значение ключа 'go'\n",
    "\n",
    "# Присваиваем None и проверяем тип\n",
    "n = None\n",
    "print(type(n))  # NoneType\n"
   ]
  },
  {
   "cell_type": "code",
   "execution_count": 5,
   "id": "9e7d56bc-b880-4dd3-9eea-dfacd957cea7",
   "metadata": {},
   "outputs": [
    {
     "name": "stdout",
     "output_type": "stream",
     "text": [
      "Корень из 25 = 5.0 , Факториал 6 = 720 , Основание логарифма = 2.9999999999999996\n"
     ]
    }
   ],
   "source": [
    "import math\n",
    "square_root = math.sqrt(25)  # Корень из 25\n",
    "factorial_result = math.factorial(6)  # Факториал 6\n",
    "logarithm = math.log(1000, 10)  # Логарифм числа 1000 по основанию 10\n",
    "\n",
    "print('Корень из 25 =', square_root, ', Факториал 6 =', factorial_result, ', Основание логарифма =', logarithm)"
   ]
  },
  {
   "cell_type": "code",
   "execution_count": 6,
   "id": "0b3d112b-13c1-482f-8ab3-c03c87a50359",
   "metadata": {},
   "outputs": [
    {
     "name": "stdout",
     "output_type": "stream",
     "text": [
      "A-A-A\n"
     ]
    }
   ],
   "source": [
    "print('A', 'A', 'A', sep='-')"
   ]
  },
  {
   "cell_type": "code",
   "execution_count": 7,
   "id": "f5bcae30-7cb7-47b7-9dc6-f717981aab7e",
   "metadata": {},
   "outputs": [
    {
     "name": "stdout",
     "output_type": "stream",
     "text": [
      "Очень жарко, пейте больше воды.\n"
     ]
    }
   ],
   "source": [
    "temperature = 30\n",
    "\n",
    "if temperature < 0:\n",
    "    print(\"Очень холодно, надевайте тёплую одежду.\")\n",
    "elif temperature >= 0 and temperature < 20:\n",
    "    print(\"Прохладно, лучше взять куртку.\")\n",
    "elif temperature >= 20 and temperature < 30:\n",
    "    print(\"Тёплая погода, достаточно лёгкой одежды.\")\n",
    "else:\n",
    "    print(\"Очень жарко, пейте больше воды.\")"
   ]
  },
  {
   "cell_type": "code",
   "execution_count": 8,
   "id": "7a20dc3b-5053-4e02-8665-d77ea10ba28c",
   "metadata": {},
   "outputs": [
    {
     "name": "stdout",
     "output_type": "stream",
     "text": [
      "['apple', 'banana', 'cherry']\n",
      "apple\n",
      "banana\n",
      "cherry\n"
     ]
    }
   ],
   "source": [
    "fruits = [\"apple\", \"banana\", \"cherry\"]\n",
    "print(fruits)\n",
    "for fruit in fruits:\n",
    "    print(fruit)"
   ]
  },
  {
   "cell_type": "code",
   "execution_count": 9,
   "id": "a8543a24-692b-4787-8943-4c0dca3d68a9",
   "metadata": {},
   "outputs": [
    {
     "name": "stdout",
     "output_type": "stream",
     "text": [
      "Это число от 1 до 10: 1\n",
      "Это число от 1 до 10: 2\n",
      "Это число от 1 до 10: 3\n",
      "Это число от 1 до 10: 4\n",
      "Это число от 1 до 10: 5\n",
      "Это число от 1 до 10: 6\n",
      "Это число от 1 до 10: 7\n",
      "Это число от 1 до 10: 8\n",
      "Это число от 1 до 10: 9\n",
      "Это число от 1 до 10: 10\n"
     ]
    }
   ],
   "source": [
    "for i in range(1, 11):\n",
    "    print('Это число от 1 до 10:', i)"
   ]
  },
  {
   "cell_type": "code",
   "execution_count": 10,
   "id": "275ac150-3ff4-482f-bdfa-3e6f0bdd83bc",
   "metadata": {},
   "outputs": [
    {
     "name": "stdout",
     "output_type": "stream",
     "text": [
      "Обратный отсчет: 10\n",
      "Обратный отсчет: 9\n",
      "Обратный отсчет: 8\n",
      "Обратный отсчет: 7\n",
      "Обратный отсчет: 6\n",
      "Обратный отсчет: 5\n",
      "Обратный отсчет: 4\n",
      "Обратный отсчет: 3\n",
      "Обратный отсчет: 2\n",
      "Обратный отсчет: 1\n",
      "Старт!\n"
     ]
    }
   ],
   "source": [
    "import time\n",
    "for i in range(10, 0, -1):\n",
    "    time.sleep(1)\n",
    "    print('Обратный отсчет:', i)\n",
    "print('Старт!')"
   ]
  },
  {
   "cell_type": "code",
   "execution_count": 11,
   "id": "c1b20245-fc02-404a-b025-73acf2f53413",
   "metadata": {},
   "outputs": [
    {
     "name": "stdout",
     "output_type": "stream",
     "text": [
      "Осталось: 5\n",
      "Осталось: 4\n",
      "Осталось: 3\n",
      "Осталось: 2\n",
      "Осталось: 1\n",
      "Время вышло!\n"
     ]
    }
   ],
   "source": [
    "countdown = 5\n",
    "\n",
    "while countdown > 0:\n",
    "    print(\"Осталось:\", countdown)\n",
    "    countdown -= 1  # Уменьшаем значение переменной на 1\n",
    "\n",
    "print(\"Время вышло!\")"
   ]
  },
  {
   "cell_type": "code",
   "execution_count": 12,
   "id": "9a6bea6c-f8d9-4496-97aa-f14bd62ee503",
   "metadata": {},
   "outputs": [
    {
     "name": "stdout",
     "output_type": "stream",
     "text": [
      "Площадь квадрата: 25\n"
     ]
    }
   ],
   "source": [
    "def calculate_area(side_length):\n",
    "    area = side_length ** 2  # Площадь квадрата равна квадрату длины стороны\n",
    "    return area\n",
    "\n",
    "side = 5\n",
    "result = calculate_area(side)\n",
    "print(\"Площадь квадрата:\", result)"
   ]
  },
  {
   "cell_type": "code",
   "execution_count": 13,
   "id": "e3f149bd-37c5-486b-b275-a412be13a727",
   "metadata": {},
   "outputs": [
    {
     "name": "stdout",
     "output_type": "stream",
     "text": [
      "29\n"
     ]
    }
   ],
   "source": [
    "sum_of_squares = lambda x, y, z: x**2 + y**2 + z**2\n",
    "print(sum_of_squares(2, 3, 4))"
   ]
  },
  {
   "cell_type": "markdown",
   "id": "55367669-e121-457a-a6ef-31f924f7923c",
   "metadata": {},
   "source": [
    "<h1> Heading 1 </h1>\n",
    "<h2> Heading 2 </h2>\n",
    "<h3> Heading 3 </h3>\n",
    "<h4> Heading 4 </h4>\n",
    "<h5> Heading 5 </h5>\n",
    "<h6> Heading 6 </h6>"
   ]
  },
  {
   "cell_type": "markdown",
   "id": "de54d1fe-5757-46f5-a081-1fefc5444515",
   "metadata": {},
   "source": [
    "<img src = 'https://i.pinimg.com/originals/5b/6e/ca/5b6eca63605bea0eeb48db43f77fa0ce.jpg'>"
   ]
  },
  {
   "cell_type": "markdown",
   "id": "d545aa39-ebf8-413d-b906-a799b6f8efa9",
   "metadata": {},
   "source": [
    "\\begin{equation*}\n",
    "S=a^2\n",
    "\\end{equation*}"
   ]
  },
  {
   "cell_type": "code",
   "execution_count": 46,
   "id": "059b860a-aaa6-47a9-b70c-5262e54574bf",
   "metadata": {},
   "outputs": [
    {
     "name": "stdout",
     "output_type": "stream",
     "text": [
      "\n",
      "ЋЎ¬Ґ­ Ї ЄҐв ¬Ё б google.com [142.250.74.174] б 32 Ў ©в ¬Ё ¤ ­­ле:\n",
      "ЋвўҐв ®в 142.250.74.174: зЁб«® Ў ©в=32 ўаҐ¬п=112¬б TTL=52\n",
      "ЋвўҐв ®в 142.250.74.174: зЁб«® Ў ©в=32 ўаҐ¬п=99¬б TTL=52\n",
      "ЋвўҐв ®в 142.250.74.174: зЁб«® Ў ©в=32 ўаҐ¬п=101¬б TTL=52\n",
      "ЋвўҐв ®в 142.250.74.174: зЁб«® Ў ©в=32 ўаҐ¬п=102¬б TTL=52\n",
      "\n",
      "‘в вЁбвЁЄ  Ping ¤«п 142.250.74.174:\n",
      "    Џ ЄҐв®ў: ®вЇа ў«Ґ­® = 4, Ї®«гзҐ­® = 4, Ї®вҐап­® = 0\n",
      "    (0% Ї®вҐам)\n",
      "ЏаЁЎ«Ё§ЁвҐ«м­®Ґ ўаҐ¬п ЇаЁҐ¬ -ЇҐаҐ¤ зЁ ў ¬б:\n",
      "    ЊЁ­Ё¬ «м­®Ґ = 99¬бҐЄ, Њ ЄбЁ¬ «м­®Ґ = 112 ¬бҐЄ, ‘аҐ¤­ҐҐ = 103 ¬бҐЄ\n"
     ]
    }
   ],
   "source": [
    "! ping google.com"
   ]
  },
  {
   "cell_type": "code",
   "execution_count": 47,
   "id": "d186c510-f9ea-4499-b71e-ab7113d4d693",
   "metadata": {},
   "outputs": [
    {
     "name": "stdout",
     "output_type": "stream",
     "text": [
      "\n",
      "Ќ бва®©Є  Їа®в®Є®«  IP ¤«п Windows\n",
      "\n",
      "\n",
      "Ђ¤ ЇвҐа Ethernet Radmin VPN:\n",
      "\n",
      "   DNS-бгддЁЄб Ї®¤Є«озҐ­Ёп . . . . . : \n",
      "   IPv6- ¤аҐб. . . . . . . . . . . . : fdfd::1aaa:4de\n",
      "   ‹®Є «м­л© IPv6- ¤аҐб Є ­ «  . . . : fe80::6abd:8651:5775:3e0e%20\n",
      "   IPv4- ¤аҐб. . . . . . . . . . . . : 26.170.4.222\n",
      "   Њ бЄ  Ї®¤бҐвЁ . . . . . . . . . . : 255.0.0.0\n",
      "   Ћб­®ў­®© и«о§. . . . . . . . . : 26.0.0.1\n",
      "\n",
      "Ђ¤ ЇвҐа ЎҐбЇа®ў®¤­®© «®Є «м­®© бҐвЁ Џ®¤Є«озҐ­ЁҐ Ї® «®Є «м­®© бҐвЁ* 1:\n",
      "\n",
      "   ‘®бв®п­ЁҐ баҐ¤л. . . . . . . . : ‘аҐ¤  ЇҐаҐ¤ зЁ ­Ґ¤®бвгЇ­ .\n",
      "   DNS-бгддЁЄб Ї®¤Є«озҐ­Ёп . . . . . : \n",
      "\n",
      "Ђ¤ ЇвҐа ЎҐбЇа®ў®¤­®© «®Є «м­®© бҐвЁ Џ®¤Є«озҐ­ЁҐ Ї® «®Є «м­®© бҐвЁ* 2:\n",
      "\n",
      "   ‘®бв®п­ЁҐ баҐ¤л. . . . . . . . : ‘аҐ¤  ЇҐаҐ¤ зЁ ­Ґ¤®бвгЇ­ .\n",
      "   DNS-бгддЁЄб Ї®¤Є«озҐ­Ёп . . . . . : \n",
      "\n",
      "Ђ¤ ЇвҐа ЎҐбЇа®ў®¤­®© «®Є «м­®© бҐвЁ ЃҐбЇа®ў®¤­ п бҐвм:\n",
      "\n",
      "   DNS-бгддЁЄб Ї®¤Є«озҐ­Ёп . . . . . : \n",
      "   ‹®Є «м­л© IPv6- ¤аҐб Є ­ «  . . . : fe80::76f2:85d6:a701:b5e5%5\n",
      "   IPv4- ¤аҐб. . . . . . . . . . . . : 192.168.156.81\n",
      "   Њ бЄ  Ї®¤бҐвЁ . . . . . . . . . . : 255.255.255.0\n",
      "   Ћб­®ў­®© и«о§. . . . . . . . . : 192.168.156.90\n",
      "\n",
      "Ђ¤ ЇвҐа Ethernet ‘ҐвҐў®Ґ Ї®¤Є«озҐ­ЁҐ Bluetooth:\n",
      "\n",
      "   ‘®бв®п­ЁҐ баҐ¤л. . . . . . . . : ‘аҐ¤  ЇҐаҐ¤ зЁ ­Ґ¤®бвгЇ­ .\n",
      "   DNS-бгддЁЄб Ї®¤Є«озҐ­Ёп . . . . . : \n",
      "\n",
      "Ђ¤ ЇвҐа Ethernet Ethernet:\n",
      "\n",
      "   ‘®бв®п­ЁҐ баҐ¤л. . . . . . . . : ‘аҐ¤  ЇҐаҐ¤ зЁ ­Ґ¤®бвгЇ­ .\n",
      "   DNS-бгддЁЄб Ї®¤Є«озҐ­Ёп . . . . . : \n",
      "\n",
      "’г­­Ґ«м­л©  ¤ ЇвҐа Teredo Tunneling Pseudo-Interface:\n",
      "\n",
      "   DNS-бгддЁЄб Ї®¤Є«озҐ­Ёп . . . . . : \n",
      "   IPv6- ¤аҐб. . . . . . . . . . . . : 2001:0:284a:364:ec:26c0:468a:6897\n",
      "   ‹®Є «м­л© IPv6- ¤аҐб Є ­ «  . . . : fe80::ec:26c0:468a:6897%14\n",
      "   Ћб­®ў­®© и«о§. . . . . . . . . : \n"
     ]
    }
   ],
   "source": [
    "! ipconfig"
   ]
  },
  {
   "cell_type": "code",
   "execution_count": 1,
   "id": "4ad6398a-0167-4fa8-af53-de33c52ea38c",
   "metadata": {},
   "outputs": [
    {
     "name": "stdout",
     "output_type": "stream",
     "text": [
      "0.00284147221917476\n"
     ]
    }
   ],
   "source": [
    "import math\n",
    "def func(t):\n",
    "    f = (9 * math.pi * t + 10 * math.cos(math.cos(t))) * math.exp(-2 * t) / (math.sqrt(t - math.sin(math.sin(t))))\n",
    " \n",
    "    return f\n",
    "print(func(5))"
   ]
  },
  {
   "cell_type": "code",
   "execution_count": 50,
   "id": "e317b9bf-4f9d-48a9-829c-8ccbeefd5933",
   "metadata": {},
   "outputs": [
    {
     "name": "stdout",
     "output_type": "stream",
     "text": [
      "[4, 3]\n"
     ]
    }
   ],
   "source": [
    "def find_in_interval(x1, x2, x3, a, b):\n",
    "    # Приведение границ интервала в правильный порядок\n",
    "    lower_bound = min(a, b)\n",
    "    upper_bound = max(a, b)\n",
    "    \n",
    "    # Находим числа, принадлежащие интервалу [lower_bound, upper_bound]\n",
    "    results = []\n",
    "    for x in (x1, x2, x3):\n",
    "        if lower_bound <= x <= upper_bound:\n",
    "            results.append(x)\n",
    "    \n",
    "    return results\n",
    "\n",
    "# Пример использования функции\n",
    "a = 5\n",
    "b = 2\n",
    "x1 = 4\n",
    "x2 = 7\n",
    "x3 = 3\n",
    "\n",
    "print(find_in_interval(x1, x2, x3, a, b))"
   ]
  },
  {
   "cell_type": "code",
   "execution_count": 51,
   "id": "c3bea4a4-9482-4f80-af6e-684faed17964",
   "metadata": {},
   "outputs": [
    {
     "name": "stdout",
     "output_type": "stream",
     "text": [
      "[4, 0, 4, 4, 6, 1, 8, 4, 7, 8, 0, 6, 10, 0, 5, 6, 1, 2, 0, 2]\n"
     ]
    }
   ],
   "source": [
    "import random\n",
    "def generate_random_numbers(count, lower_bound, upper_bound):\n",
    "    return [random.randint(lower_bound, upper_bound) for _ in range(count)]\n",
    "random_numbers = generate_random_numbers(20, 0, 10)\n",
    "print(random_numbers)"
   ]
  },
  {
   "cell_type": "code",
   "execution_count": 15,
   "id": "3ee91147-a2c7-4379-9878-c135c0b653df",
   "metadata": {},
   "outputs": [
    {
     "name": "stdout",
     "output_type": "stream",
     "text": [
      "12.336875777899134\n"
     ]
    }
   ],
   "source": [
    "def calculate_sequence_sum(count):\n",
    "    return sum(n / (n + 5) for n in range(1, count + 1))\n",
    "sum_of_sequence = calculate_sequence_sum(20)\n",
    "print(sum_of_sequence)"
   ]
  },
  {
   "cell_type": "raw",
   "id": "b92dc111-7f7e-4262-8661-417fb452e997",
   "metadata": {},
   "source": [
    "1.Почему для работы с большими данными и для машинного обучения выбирают язык Python? Перечислите не менее трех причин.\n",
    "1)простой язык сценариев, который упрощает взаимодействие с данными\n",
    "2)имеет широкий спектр пакетов, которые упрощают начало работы и создание приложений, от самых простых до самых сложных.\n",
    "3)Python широко используется в промышленности\n",
    "2.В чем особенности среды Jupyter Notebook, почему ее выбирают специалисты по Data Science? \n",
    "\n",
    "3.Перечислите основные библиотеки Python для машинного обучения.\n",
    "Pandas, Scipy, Matplotlib, Numpy\n",
    "4.Какие типы данных Python вы знаете?\n",
    "int - целые числа\n",
    "float - вещественные числа\n",
    "str - строка\n",
    "list - список\n",
    "tuple - кортеж\n",
    "dict - словарь\n",
    "bool - тип данных буллеан( true, false)\n",
    "NonetType - отсутствие значения\n",
    "5. Назовите основные языковые конструкции Python.\n",
    "условные операторы - if,else, elif\n",
    "циклы - for, while\n",
    "операторы создания функций - def, lambda\n",
    "6.Какое назначение у оператора if … else?\n",
    "создание условия и проверка его на истиность или ложность( например нужно узнать больше ли переменная а какого-то числа, если да то умножить его, если нет то разделить, в это случае нам понадобиться if и else для проверки условия больше/меньше и для обазанчаения дальнейших действий)\n",
    "7.Когда заканчивается выполнение оператора while?\n",
    "когда условие цикла становится ложным или когда вы вручную внутри цикла закрываете его\n",
    "8.Какие способы задания функций есть в Python?\n",
    "обычная функция с помощью ключевое слово def\n",
    "анонимная функция с помощью ключевого слова lambda\n",
    "9.Что такое Лямбда-функция?\n",
    "Лямбда-функция — это небольшая анонимная функция.\n",
    "Лямбда-функция может принимать любое количество аргументов, но иметь только одно выражение.\n",
    "10.Какая библиотека Python отвечает за выполнение основным математических функций?\n",
    "библиотека math\n",
    "11.Назовите дополнительные возможности использования среды Jupyter Notebook.\n",
    "В Jyputer Notebook можно внедрять теги языка разметки html и назначать им стили.\n",
    "Вставка математических формул с помощью встроенного редактора TeX.\n",
    "Выполнение команд консоли."
   ]
  }
 ],
 "metadata": {
  "kernelspec": {
   "display_name": "Python 3 (ipykernel)",
   "language": "python",
   "name": "python3"
  },
  "language_info": {
   "codemirror_mode": {
    "name": "ipython",
    "version": 3
   },
   "file_extension": ".py",
   "mimetype": "text/x-python",
   "name": "python",
   "nbconvert_exporter": "python",
   "pygments_lexer": "ipython3",
   "version": "3.11.9"
  }
 },
 "nbformat": 4,
 "nbformat_minor": 5
}
